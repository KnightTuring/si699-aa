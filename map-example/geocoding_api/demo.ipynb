{
 "cells": [
  {
   "cell_type": "code",
   "execution_count": 1,
   "id": "d9fa563a-efb1-4365-9e43-f5b6f700938f",
   "metadata": {},
   "outputs": [],
   "source": [
    "import requests"
   ]
  },
  {
   "cell_type": "code",
   "execution_count": 2,
   "id": "c59484f6-7d69-4e1d-8f67-09d77b06434a",
   "metadata": {},
   "outputs": [],
   "source": [
    "base_url = \"https://maps.googleapis.com/maps/api/geocode/json\"\n",
    "params = {'address': \"105 S State St, Ann Arbor, MI 48109\", 'key': ''}\n",
    "resp = requests.get(base_url, params=params).json()"
   ]
  },
  {
   "cell_type": "code",
   "execution_count": 8,
   "id": "420687ce-1a9e-48d5-ba39-7af65acc3692",
   "metadata": {},
   "outputs": [
    {
     "name": "stdout",
     "output_type": "stream",
     "text": [
      "{'bounds': {'northeast': {'lat': 42.2812225, 'lng': -83.7394955}, 'southwest': {'lat': 42.2802571, 'lng': -83.74089769999999}}, 'location': {'lat': 42.2806824, 'lng': -83.7401672}, 'location_type': 'GEOMETRIC_CENTER', 'viewport': {'northeast': {'lat': 42.2820887802915, 'lng': -83.7388476197085}, 'southwest': {'lat': 42.2793908197085, 'lng': -83.74154558029151}}}\n"
     ]
    }
   ],
   "source": [
    "print(resp['results'][0]['geometry'])"
   ]
  }
 ],
 "metadata": {
  "kernelspec": {
   "display_name": "Python 3",
   "language": "python",
   "name": "python3"
  },
  "language_info": {
   "codemirror_mode": {
    "name": "ipython",
    "version": 3
   },
   "file_extension": ".py",
   "mimetype": "text/x-python",
   "name": "python",
   "nbconvert_exporter": "python",
   "pygments_lexer": "ipython3",
   "version": "3.9.6"
  },
  "vscode": {
   "interpreter": {
    "hash": "31f2aee4e71d21fbe5cf8b01ff0e069b9275f58929596ceb00d14d90e3e16cd6"
   }
  }
 },
 "nbformat": 4,
 "nbformat_minor": 5
}
