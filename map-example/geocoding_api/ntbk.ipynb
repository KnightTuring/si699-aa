{
 "cells": [
  {
   "cell_type": "code",
   "execution_count": 2,
   "id": "d3f6d33e-ece0-4bdd-ab9d-82fca54f3d9e",
   "metadata": {},
   "outputs": [],
   "source": [
    "import requests"
   ]
  },
  {
   "cell_type": "code",
   "execution_count": 11,
   "id": "403f2e1c-b01e-4c89-8cfb-2a376101e872",
   "metadata": {},
   "outputs": [],
   "source": [
    "base_url = \"https://maps.googleapis.com/maps/api/geocode/json\"\n",
    "params = {'address': '105 South State, Ann Arbor, MI, 48109', 'key': ''}\n",
    "response = requests.get(base_url, params)"
   ]
  },
  {
   "cell_type": "code",
   "execution_count": 21,
   "id": "49e9ec91-37d8-4044-9def-5073e8a8fb41",
   "metadata": {},
   "outputs": [
    {
     "name": "stdout",
     "output_type": "stream",
     "text": [
      "{'address_components': [{'long_name': '105', 'short_name': '105', 'types': ['street_number']}, {'long_name': 'South State Street', 'short_name': 'S State St', 'types': ['route']}, {'long_name': 'Burns Park', 'short_name': 'Burns Park', 'types': ['neighborhood', 'political']}, {'long_name': 'Ann Arbor', 'short_name': 'Ann Arbor', 'types': ['locality', 'political']}, {'long_name': 'Washtenaw County', 'short_name': 'Washtenaw County', 'types': ['administrative_area_level_2', 'political']}, {'long_name': 'Michigan', 'short_name': 'MI', 'types': ['administrative_area_level_1', 'political']}, {'long_name': 'United States', 'short_name': 'US', 'types': ['country', 'political']}, {'long_name': '48104', 'short_name': '48104', 'types': ['postal_code']}, {'long_name': '1285', 'short_name': '1285', 'types': ['postal_code_suffix']}], 'formatted_address': '105 S State St, Ann Arbor, MI 48104, USA', 'geometry': {'bounds': {'northeast': {'lat': 42.2812225, 'lng': -83.7394955}, 'southwest': {'lat': 42.2802571, 'lng': -83.74089769999999}}, 'location': {'lat': 42.2806824, 'lng': -83.7401672}, 'location_type': 'GEOMETRIC_CENTER', 'viewport': {'northeast': {'lat': 42.2820887802915, 'lng': -83.7388476197085}, 'southwest': {'lat': 42.2793908197085, 'lng': -83.74154558029151}}}, 'place_id': 'ChIJW-T1a0CuPIgRZkY4zzVXjW4', 'types': ['premise']}\n"
     ]
    }
   ],
   "source": [
    "print(response.json()['results'][0])"
   ]
  }
 ],
 "metadata": {
  "kernelspec": {
   "display_name": "Python 3 (ipykernel)",
   "language": "python",
   "name": "python3"
  },
  "language_info": {
   "codemirror_mode": {
    "name": "ipython",
    "version": 3
   },
   "file_extension": ".py",
   "mimetype": "text/x-python",
   "name": "python",
   "nbconvert_exporter": "python",
   "pygments_lexer": "ipython3",
   "version": "3.9.12"
  }
 },
 "nbformat": 4,
 "nbformat_minor": 5
}
